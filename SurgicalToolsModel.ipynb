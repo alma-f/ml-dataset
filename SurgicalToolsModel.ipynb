{
  "nbformat": 4,
  "nbformat_minor": 0,
  "metadata": {
    "colab": {
      "name": "SurgicalToolsModel.ipynb",
      "provenance": [],
      "collapsed_sections": [],
      "include_colab_link": true
    },
    "kernelspec": {
      "name": "python3",
      "display_name": "Python 3"
    }
  },
  "cells": [
    {
      "cell_type": "markdown",
      "metadata": {
        "id": "view-in-github",
        "colab_type": "text"
      },
      "source": [
        "<a href=\"https://colab.research.google.com/github/alma-f/surgical-tools-detection/blob/master/SurgicalToolsModel.ipynb\" target=\"_parent\"><img src=\"https://colab.research.google.com/assets/colab-badge.svg\" alt=\"Open In Colab\"/></a>"
      ]
    },
    {
      "cell_type": "code",
      "metadata": {
        "id": "h_BVd3MhUtag",
        "colab_type": "code",
        "outputId": "ec0b7f75-55a7-484a-e867-4f5cfefe92af",
        "colab": {
          "base_uri": "https://localhost:8080/",
          "height": 104
        }
      },
      "source": [
        "from __future__ import absolute_import, division, print_function, unicode_literals\n",
        "\n",
        "# Install TensorFlow\n",
        "try:\n",
        "  # %tensorflow_version only exists in Colab.\n",
        "  %tensorflow_version 1\n",
        "except Exception:\n",
        "  pass\n",
        "\n",
        "import tensorflow as tf"
      ],
      "execution_count": 34,
      "outputs": [
        {
          "output_type": "stream",
          "text": [
            "`%tensorflow_version` only switches the major version: 1.x or 2.x.\n",
            "You set: `1`. This will be interpreted as: `1.x`.\n",
            "\n",
            "\n",
            "TensorFlow is already loaded. Please restart the runtime to change versions.\n"
          ],
          "name": "stdout"
        }
      ]
    },
    {
      "cell_type": "code",
      "metadata": {
        "id": "-g5grF7HXaJx",
        "colab_type": "code",
        "colab": {}
      },
      "source": [
        "import os, cv2"
      ],
      "execution_count": 0,
      "outputs": []
    },
    {
      "cell_type": "code",
      "metadata": {
        "id": "Wji4n1mtX9os",
        "colab_type": "code",
        "colab": {}
      },
      "source": [
        "  import numpy as np\n"
      ],
      "execution_count": 0,
      "outputs": []
    },
    {
      "cell_type": "code",
      "metadata": {
        "id": "nU6fX2pYYPlG",
        "colab_type": "code",
        "colab": {}
      },
      "source": [
        "import matplotlib.pyplot as plt"
      ],
      "execution_count": 0,
      "outputs": []
    },
    {
      "cell_type": "code",
      "metadata": {
        "id": "UbZQPvYS9Q8l",
        "colab_type": "code",
        "colab": {}
      },
      "source": [
        "from sklearn.utils import shuffle\n",
        "from sklearn.model_selection import train_test_split"
      ],
      "execution_count": 0,
      "outputs": []
    },
    {
      "cell_type": "code",
      "metadata": {
        "id": "KpHRw1wj_F1H",
        "colab_type": "code",
        "colab": {}
      },
      "source": [
        "from keras import backend as K"
      ],
      "execution_count": 0,
      "outputs": []
    },
    {
      "cell_type": "code",
      "metadata": {
        "id": "OXEbbcKb_OyM",
        "colab_type": "code",
        "colab": {}
      },
      "source": [
        "K.common.set_image_dim_ordering('tf')\n",
        "#K.common.set_image_dim_ordering('th')"
      ],
      "execution_count": 0,
      "outputs": []
    },
    {
      "cell_type": "code",
      "metadata": {
        "id": "nQdTUw7cB2WR",
        "colab_type": "code",
        "colab": {}
      },
      "source": [
        "from keras.utils import np_utils"
      ],
      "execution_count": 0,
      "outputs": []
    },
    {
      "cell_type": "code",
      "metadata": {
        "id": "Va2UcKwtB8WG",
        "colab_type": "code",
        "colab": {}
      },
      "source": [
        "from keras.models import Sequential"
      ],
      "execution_count": 0,
      "outputs": []
    },
    {
      "cell_type": "code",
      "metadata": {
        "id": "KaWpBkJZCBuE",
        "colab_type": "code",
        "colab": {}
      },
      "source": [
        "from keras.layers import Dense, Dropout, Activation, Flatten\n",
        "from keras.layers.convolutional import Convolution2D, MaxPooling2D\n",
        "from keras.optimizers import SGD,RMSprop,adam"
      ],
      "execution_count": 0,
      "outputs": []
    },
    {
      "cell_type": "code",
      "metadata": {
        "id": "93B6nCOBGHJn",
        "colab_type": "code",
        "colab": {}
      },
      "source": [
        "from keras.models import Sequential"
      ],
      "execution_count": 0,
      "outputs": []
    },
    {
      "cell_type": "code",
      "metadata": {
        "id": "b1zQzD5rZaya",
        "colab_type": "code",
        "outputId": "74c2ab93-538d-4553-d232-d5f00713972e",
        "colab": {
          "base_uri": "https://localhost:8080/",
          "height": 138
        }
      },
      "source": [
        "! git clone https://github.com/alma-f/ml-dataset.git"
      ],
      "execution_count": 21,
      "outputs": [
        {
          "output_type": "stream",
          "text": [
            "Cloning into 'ml-dataset'...\n",
            "remote: Enumerating objects: 14, done.\u001b[K\n",
            "remote: Counting objects: 100% (14/14), done.\u001b[K\n",
            "remote: Compressing objects: 100% (10/10), done.\u001b[K\n",
            "remote: Total 3053 (delta 3), reused 13 (delta 2), pack-reused 3039\u001b[K\n",
            "Receiving objects: 100% (3053/3053), 181.65 MiB | 12.63 MiB/s, done.\n",
            "Resolving deltas: 100% (8/8), done.\n"
          ],
          "name": "stdout"
        }
      ]
    },
    {
      "cell_type": "code",
      "metadata": {
        "id": "o8EPSZ4mMqTf",
        "colab_type": "code",
        "outputId": "cbd881ba-85a4-4a19-ff06-83006dd8e240",
        "colab": {
          "base_uri": "https://localhost:8080/",
          "height": 34
        }
      },
      "source": [
        "print(os.listdir('ml-dataset'))"
      ],
      "execution_count": 46,
      "outputs": [
        {
          "output_type": "stream",
          "text": [
            "['.git', 'README.md', 'Images', 'Test image']\n"
          ],
          "name": "stdout"
        }
      ]
    },
    {
      "cell_type": "code",
      "metadata": {
        "id": "aCVVW8OFTvF5",
        "colab_type": "code",
        "colab": {}
      },
      "source": [
        "data_path = 'ml-dataset/Images'\n",
        "data_dir_list = os.listdir(data_path)"
      ],
      "execution_count": 0,
      "outputs": []
    },
    {
      "cell_type": "markdown",
      "metadata": {
        "id": "7LGtnCeuQsiv",
        "colab_type": "text"
      },
      "source": [
        ""
      ]
    },
    {
      "cell_type": "code",
      "metadata": {
        "id": "HTeM_aNVWGQk",
        "colab_type": "code",
        "colab": {}
      },
      "source": [
        "img_rows=128\n",
        "img_cols=128\n",
        "num_channel=1\n",
        "num_epoch=25\n"
      ],
      "execution_count": 0,
      "outputs": []
    },
    {
      "cell_type": "code",
      "metadata": {
        "id": "8d2lf6cPv_br",
        "colab_type": "code",
        "colab": {}
      },
      "source": [
        "num_classes = 4"
      ],
      "execution_count": 0,
      "outputs": []
    },
    {
      "cell_type": "code",
      "metadata": {
        "id": "brw-EY-3SiAH",
        "colab_type": "code",
        "colab": {}
      },
      "source": [
        "labels_name={'Curved Mayo Scissor':0,'Scalpel':1, 'Straight Dissection Clamp':2, 'Straight Mayo Scissor':3}"
      ],
      "execution_count": 0,
      "outputs": []
    },
    {
      "cell_type": "code",
      "metadata": {
        "id": "p6Lqfg7bSrXP",
        "colab_type": "code",
        "colab": {}
      },
      "source": [
        "img_data_list=[]\n",
        "labels_list = []"
      ],
      "execution_count": 0,
      "outputs": []
    },
    {
      "cell_type": "code",
      "metadata": {
        "id": "MqUH-efuS0Ti",
        "colab_type": "code",
        "outputId": "776fb571-b84c-4dec-d86e-3d83bc0f00db",
        "colab": {
          "base_uri": "https://localhost:8080/",
          "height": 155
        }
      },
      "source": [
        "for dataset in data_dir_list:\n",
        "  img_list=os.listdir(data_path+'/'+ dataset)\n",
        "  print ('Loading the images of dataset-'+'{}\\n'.format(dataset))\n",
        "  label = labels_name[dataset]\n",
        "  for img in img_list:\n",
        "    input_img=cv2.imread(data_path + '/'+ dataset + '/'+ img )\n",
        "    input_img=cv2.cvtColor(input_img, cv2.COLOR_BGR2GRAY)\n",
        "    input_img_resize=cv2.resize(input_img,(128,128))\n",
        "    img_data_list.append(input_img_resize)\n",
        "    labels_list.append(label)"
      ],
      "execution_count": 64,
      "outputs": [
        {
          "output_type": "stream",
          "text": [
            "Loading the images of dataset-Curved Mayo Scissor\n",
            "\n",
            "Loading the images of dataset-Straight Dissection Clamp\n",
            "\n",
            "Loading the images of dataset-Scalpel\n",
            "\n",
            "Loading the images of dataset-Straight Mayo Scissor\n",
            "\n"
          ],
          "name": "stdout"
        }
      ]
    },
    {
      "cell_type": "code",
      "metadata": {
        "id": "wheNHlsSTMd4",
        "colab_type": "code",
        "outputId": "f5ca0a92-ad18-47d7-c393-32f9b1b225ae",
        "colab": {
          "base_uri": "https://localhost:8080/",
          "height": 34
        }
      },
      "source": [
        "img_data = np.array(img_data_list)\n",
        "img_data = img_data.astype('float32')\n",
        "img_data /= 255\n",
        "print (img_data.shape)"
      ],
      "execution_count": 74,
      "outputs": [
        {
          "output_type": "stream",
          "text": [
            "(2010, 128, 128)\n"
          ],
          "name": "stdout"
        }
      ]
    },
    {
      "cell_type": "code",
      "metadata": {
        "colab_type": "code",
        "id": "d1LO62Gyu1oZ",
        "outputId": "2c350b7b-ba39-413b-bff3-e896768a7eb1",
        "colab": {
          "base_uri": "https://localhost:8080/",
          "height": 34
        }
      },
      "source": [
        "labels = np.array(labels_list)\n",
        "# print the count of number of samples for different classes\n",
        "print(np.unique(labels,return_counts=True))\n",
        "# convert class labels to on-hot encoding\n",
        "Y = np_utils.to_categorical(labels, num_classes)"
      ],
      "execution_count": 75,
      "outputs": [
        {
          "output_type": "stream",
          "text": [
            "(array([0, 1, 2, 3]), array([550, 550, 460, 450]))\n"
          ],
          "name": "stdout"
        }
      ]
    },
    {
      "cell_type": "code",
      "metadata": {
        "colab_type": "code",
        "id": "jtjM-rnuu1Sa",
        "colab": {}
      },
      "source": [
        "#Shuffle the dataset\n",
        "x,y = shuffle(img_data,Y, random_state=2)\n",
        "# Split the dataset\n",
        "X_train, X_test, y_train, y_test = train_test_split(x, y, test_size=0.2, random_state=2)"
      ],
      "execution_count": 0,
      "outputs": []
    },
    {
      "cell_type": "code",
      "metadata": {
        "id": "3DIGNwIL6jux",
        "colab_type": "code",
        "outputId": "25ea3cd6-bbf5-4f65-bf20-ddcf2841faff",
        "colab": {
          "base_uri": "https://localhost:8080/",
          "height": 34
        }
      },
      "source": [
        "if num_channel==1:\n",
        "\tif K.common.image_dim_ordering()=='th':\n",
        "\t\timg_data= np.expand_dims(img_data, axis=1) \n",
        "\t\tprint (img_data.shape)\n",
        "\telse:\n",
        "\t\timg_data= np.expand_dims(img_data, axis=3) \n",
        "\t\tprint (img_data.shape) \n",
        "\t\t\n",
        "else:\n",
        "\tif K.common.image_dim_ordering()=='th':\n",
        "\t\timg_data=np.rollaxis(img_data,3,1)\n",
        "\t\tprint (img_data.shape)\n",
        "\t\t"
      ],
      "execution_count": 77,
      "outputs": [
        {
          "output_type": "stream",
          "text": [
            "(2010, 128, 128, 1)\n"
          ],
          "name": "stdout"
        }
      ]
    },
    {
      "cell_type": "code",
      "metadata": {
        "id": "E0fFl3VK-CuF",
        "colab_type": "code",
        "colab": {}
      },
      "source": [
        "from sklearn import preprocessing"
      ],
      "execution_count": 0,
      "outputs": []
    },
    {
      "cell_type": "code",
      "metadata": {
        "id": "5JEwoZvf8MD-",
        "colab_type": "code",
        "colab": {}
      },
      "source": [
        "\tdef image_to_feature_vector(image, size=(128, 128)):\n",
        "\t\t# resize the image to a fixed size, then flatten the image into\n",
        "\t\t# a list of raw pixel intensities\n",
        "\t\treturn cv2.resize(image, size).flatten()\n"
      ],
      "execution_count": 0,
      "outputs": []
    },
    {
      "cell_type": "code",
      "metadata": {
        "id": "IrpNDOSA8TVJ",
        "colab_type": "code",
        "outputId": "9b8cf792-8db2-43b1-d52e-8b9c524a4171",
        "colab": {
          "base_uri": "https://localhost:8080/",
          "height": 155
        }
      },
      "source": [
        "\timg_data_list=[]\n",
        "\tfor dataset in data_dir_list:\n",
        "\t\timg_list=os.listdir(data_path+'/'+ dataset)\n",
        "\t\tprint ('Loaded the images of dataset-'+'{}\\n'.format(dataset))\n",
        "\t\tfor img in img_list:\n",
        "\t\t\tinput_img=cv2.imread(data_path + '/'+ dataset + '/'+ img ) #read the image\n",
        "\t\t\tinput_img=cv2.cvtColor(input_img, cv2.COLOR_BGR2GRAY) #convert it into gray\n",
        "\t\t\tinput_img_flatten=image_to_feature_vector(input_img,(128,128)) #resize\n",
        "\t\t\timg_data_list.append(input_img_flatten) #append it to the img_data_list"
      ],
      "execution_count": 80,
      "outputs": [
        {
          "output_type": "stream",
          "text": [
            "Loaded the images of dataset-Curved Mayo Scissor\n",
            "\n",
            "Loaded the images of dataset-Straight Dissection Clamp\n",
            "\n",
            "Loaded the images of dataset-Scalpel\n",
            "\n",
            "Loaded the images of dataset-Straight Mayo Scissor\n",
            "\n"
          ],
          "name": "stdout"
        }
      ]
    },
    {
      "cell_type": "code",
      "metadata": {
        "id": "vZs0x2us81kM",
        "colab_type": "code",
        "outputId": "b49cb224-8db8-44f8-c85a-0429d7ac861a",
        "colab": {
          "base_uri": "https://localhost:8080/",
          "height": 141
        }
      },
      "source": [
        "img_data = np.array(img_data_list)\n",
        "img_data = img_data.astype('float32')\n",
        "print (img_data.shape)\n",
        "img_data_scaled = preprocessing.scale(img_data)\n",
        "print (img_data_scaled.shape)"
      ],
      "execution_count": 81,
      "outputs": [
        {
          "output_type": "stream",
          "text": [
            "(2010, 16384)\n",
            "(2010, 16384)\n"
          ],
          "name": "stdout"
        },
        {
          "output_type": "stream",
          "text": [
            "/usr/local/lib/python3.6/dist-packages/sklearn/preprocessing/_data.py:173: UserWarning: Numerical issues were encountered when centering the data and might not be solved. Dataset may contain too large values. You may need to prescale your features.\n",
            "  warnings.warn(\"Numerical issues were encountered \"\n",
            "/usr/local/lib/python3.6/dist-packages/sklearn/preprocessing/_data.py:190: UserWarning: Numerical issues were encountered when scaling the data and might not be solved. The standard deviation of the data is probably very close to 0. \n",
            "  warnings.warn(\"Numerical issues were encountered \"\n"
          ],
          "name": "stderr"
        }
      ]
    },
    {
      "cell_type": "code",
      "metadata": {
        "id": "gO1XGOPP1WdF",
        "colab_type": "code",
        "outputId": "82beb5ee-b268-4788-e6a8-ea0ac10ab7f9",
        "colab": {
          "base_uri": "https://localhost:8080/",
          "height": 52
        }
      },
      "source": [
        "print (np.mean(img_data_scaled))\n",
        "print (np.std(img_data_scaled))"
      ],
      "execution_count": 82,
      "outputs": [
        {
          "output_type": "stream",
          "text": [
            "-4.280192e-08\n",
            "0.9999992\n"
          ],
          "name": "stdout"
        }
      ]
    },
    {
      "cell_type": "code",
      "metadata": {
        "id": "30ZTWdnY19XA",
        "colab_type": "code",
        "outputId": "97477f21-a643-4bda-9bfb-f734f3d66baf",
        "colab": {
          "base_uri": "https://localhost:8080/",
          "height": 69
        }
      },
      "source": [
        "print (img_data_scaled.mean(axis=0))\n",
        "print (img_data_scaled.std(axis=0))"
      ],
      "execution_count": 83,
      "outputs": [
        {
          "output_type": "stream",
          "text": [
            "[-6.1724911e-08  1.2451737e-07 -4.0697222e-07 ... -1.2583698e-07\n",
            " -1.0989792e-07 -2.4835268e-08]\n",
            "[0.99999607 1.0000008  0.99999845 ... 0.9999967  1.0000005  1.0000006 ]\n"
          ],
          "name": "stdout"
        }
      ]
    },
    {
      "cell_type": "code",
      "metadata": {
        "id": "vIMMenU52BCC",
        "colab_type": "code",
        "outputId": "a2098fc6-4617-4ac5-95df-372b553c01fd",
        "colab": {
          "base_uri": "https://localhost:8080/",
          "height": 52
        }
      },
      "source": [
        "if K.common.image_dim_ordering()=='th':\n",
        "\t\timg_data_scaled=img_data_scaled.reshape(img_data.shape[0],num_channel,img_rows,img_cols)\n",
        "\t\tprint (img_data_scaled.shape)\n",
        "\t\t\n",
        "else:\n",
        "\t\timg_data_scaled=img_data_scaled.reshape(img_data.shape[0],img_rows,img_cols,num_channel)\n",
        "\t\tprint (img_data_scaled.shape)\n",
        "\t\n",
        "\t\n",
        "if K.common.image_dim_ordering()=='th':\n",
        "\t\timg_data_scaled=img_data_scaled.reshape(img_data.shape[0],num_channel,img_rows,img_cols)\n",
        "\t\tprint (img_data_scaled.shape)\n",
        "\t\t\n",
        "else:\n",
        "\t\timg_data_scaled=img_data_scaled.reshape(img_data.shape[0],img_rows,img_cols,num_channel)\n",
        "\t\tprint (img_data_scaled.shape)\n"
      ],
      "execution_count": 84,
      "outputs": [
        {
          "output_type": "stream",
          "text": [
            "(2010, 128, 128, 1)\n",
            "(2010, 128, 128, 1)\n"
          ],
          "name": "stdout"
        }
      ]
    },
    {
      "cell_type": "code",
      "metadata": {
        "id": "XDWr90YGfEt0",
        "colab_type": "code",
        "colab": {}
      },
      "source": [
        "img_data=img_data_scaled"
      ],
      "execution_count": 0,
      "outputs": []
    },
    {
      "cell_type": "markdown",
      "metadata": {
        "id": "ldMgD-woC9A0",
        "colab_type": "text"
      },
      "source": [
        "# Defining the model"
      ]
    },
    {
      "cell_type": "code",
      "metadata": {
        "id": "K9bHkGqdC-MT",
        "colab_type": "code",
        "colab": {}
      },
      "source": [
        "input_shape=img_data_scaled[0].shape"
      ],
      "execution_count": 0,
      "outputs": []
    },
    {
      "cell_type": "code",
      "metadata": {
        "id": "4FSZZBfWDCqw",
        "colab_type": "code",
        "colab": {}
      },
      "source": [
        "model = Sequential()"
      ],
      "execution_count": 0,
      "outputs": []
    },
    {
      "cell_type": "code",
      "metadata": {
        "id": "XPv3WZ7NUbBM",
        "colab_type": "code",
        "outputId": "203c0e4c-8bb0-47cd-9bf4-fba8bdd3dc0b",
        "colab": {
          "base_uri": "https://localhost:8080/",
          "height": 193
        }
      },
      "source": [
        "model.add(Convolution2D(32, 3,3,border_mode='same',input_shape=input_shape))\n",
        "model.add(Activation('relu'))\n",
        "model.add(Convolution2D(32, 3, 3))\n",
        "model.add(Activation('relu'))\n",
        "model.add(MaxPooling2D(pool_size=(2, 2)))\n",
        "model.add(Dropout(0.5))"
      ],
      "execution_count": 89,
      "outputs": [
        {
          "output_type": "stream",
          "text": [
            "WARNING:tensorflow:From /tensorflow-1.15.2/python3.6/tensorflow_core/python/ops/resource_variable_ops.py:1630: calling BaseResourceVariable.__init__ (from tensorflow.python.ops.resource_variable_ops) with constraint is deprecated and will be removed in a future version.\n",
            "Instructions for updating:\n",
            "If using Keras pass *_constraint arguments to layers.\n",
            "WARNING:tensorflow:From /usr/local/lib/python3.6/dist-packages/keras/backend/tensorflow_backend.py:4070: The name tf.nn.max_pool is deprecated. Please use tf.nn.max_pool2d instead.\n",
            "\n"
          ],
          "name": "stdout"
        },
        {
          "output_type": "stream",
          "text": [
            "/usr/local/lib/python3.6/dist-packages/ipykernel_launcher.py:1: UserWarning: Update your `Conv2D` call to the Keras 2 API: `Conv2D(32, (3, 3), input_shape=(128, 128,..., padding=\"same\")`\n",
            "  \"\"\"Entry point for launching an IPython kernel.\n",
            "/usr/local/lib/python3.6/dist-packages/ipykernel_launcher.py:3: UserWarning: Update your `Conv2D` call to the Keras 2 API: `Conv2D(32, (3, 3))`\n",
            "  This is separate from the ipykernel package so we can avoid doing imports until\n"
          ],
          "name": "stderr"
        }
      ]
    },
    {
      "cell_type": "code",
      "metadata": {
        "id": "Oriwzm552mqR",
        "colab_type": "code",
        "outputId": "7ccc9585-35fb-4382-e372-c0e948c18c9f",
        "colab": {
          "base_uri": "https://localhost:8080/",
          "height": 52
        }
      },
      "source": [
        "model.add(Convolution2D(64, 3, 3))\n",
        "model.add(Activation('relu'))\n",
        "model.add(MaxPooling2D(pool_size=(2, 2)))\n",
        "model.add(Dropout(0.5))"
      ],
      "execution_count": 90,
      "outputs": [
        {
          "output_type": "stream",
          "text": [
            "/usr/local/lib/python3.6/dist-packages/ipykernel_launcher.py:1: UserWarning: Update your `Conv2D` call to the Keras 2 API: `Conv2D(64, (3, 3))`\n",
            "  \"\"\"Entry point for launching an IPython kernel.\n"
          ],
          "name": "stderr"
        }
      ]
    },
    {
      "cell_type": "code",
      "metadata": {
        "id": "rWmPEvlp2rio",
        "colab_type": "code",
        "colab": {}
      },
      "source": [
        "model.add(Flatten())\n",
        "model.add(Dense(64))\n",
        "model.add(Activation('relu'))\n",
        "model.add(Dropout(0.5))\n",
        "model.add(Dense(num_classes))\n",
        "model.add(Activation('softmax'))"
      ],
      "execution_count": 0,
      "outputs": []
    },
    {
      "cell_type": "code",
      "metadata": {
        "id": "-2Z0JyKC21Yo",
        "colab_type": "code",
        "colab": {}
      },
      "source": [
        "model.compile(loss='categorical_crossentropy', optimizer='adam',metrics=[\"accuracy\"])"
      ],
      "execution_count": 0,
      "outputs": []
    },
    {
      "cell_type": "code",
      "metadata": {
        "id": "KuHTsMAZ27gY",
        "colab_type": "code",
        "outputId": "c3e493f5-9a84-4ebf-9a3a-cce6bad99702",
        "colab": {
          "base_uri": "https://localhost:8080/",
          "height": 726
        }
      },
      "source": [
        "#Model configuration\n",
        "model.summary()\n",
        "model.get_config()\n",
        "model.layers[0].get_config()\n",
        "model.layers[0].input_shape\t\t\t\n",
        "model.layers[0].output_shape\t\t\t\n",
        "model.layers[0].get_weights()\n",
        "np.shape(model.layers[0].get_weights()[0])\n",
        "model.layers[0].trainable"
      ],
      "execution_count": 93,
      "outputs": [
        {
          "output_type": "stream",
          "text": [
            "Model: \"sequential_1\"\n",
            "_________________________________________________________________\n",
            "Layer (type)                 Output Shape              Param #   \n",
            "=================================================================\n",
            "conv2d_1 (Conv2D)            (None, 128, 128, 32)      320       \n",
            "_________________________________________________________________\n",
            "activation_1 (Activation)    (None, 128, 128, 32)      0         \n",
            "_________________________________________________________________\n",
            "conv2d_2 (Conv2D)            (None, 126, 126, 32)      9248      \n",
            "_________________________________________________________________\n",
            "activation_2 (Activation)    (None, 126, 126, 32)      0         \n",
            "_________________________________________________________________\n",
            "max_pooling2d_1 (MaxPooling2 (None, 63, 63, 32)        0         \n",
            "_________________________________________________________________\n",
            "dropout_1 (Dropout)          (None, 63, 63, 32)        0         \n",
            "_________________________________________________________________\n",
            "conv2d_3 (Conv2D)            (None, 61, 61, 64)        18496     \n",
            "_________________________________________________________________\n",
            "activation_3 (Activation)    (None, 61, 61, 64)        0         \n",
            "_________________________________________________________________\n",
            "max_pooling2d_2 (MaxPooling2 (None, 30, 30, 64)        0         \n",
            "_________________________________________________________________\n",
            "dropout_2 (Dropout)          (None, 30, 30, 64)        0         \n",
            "_________________________________________________________________\n",
            "flatten_1 (Flatten)          (None, 57600)             0         \n",
            "_________________________________________________________________\n",
            "dense_1 (Dense)              (None, 64)                3686464   \n",
            "_________________________________________________________________\n",
            "activation_4 (Activation)    (None, 64)                0         \n",
            "_________________________________________________________________\n",
            "dropout_3 (Dropout)          (None, 64)                0         \n",
            "_________________________________________________________________\n",
            "dense_2 (Dense)              (None, 4)                 260       \n",
            "_________________________________________________________________\n",
            "activation_5 (Activation)    (None, 4)                 0         \n",
            "=================================================================\n",
            "Total params: 3,714,788\n",
            "Trainable params: 3,714,788\n",
            "Non-trainable params: 0\n",
            "_________________________________________________________________\n"
          ],
          "name": "stdout"
        },
        {
          "output_type": "execute_result",
          "data": {
            "text/plain": [
              "True"
            ]
          },
          "metadata": {
            "tags": []
          },
          "execution_count": 93
        }
      ]
    },
    {
      "cell_type": "markdown",
      "metadata": {
        "id": "6ETzN_ZgbqiB",
        "colab_type": "text"
      },
      "source": [
        "Training the model"
      ]
    },
    {
      "cell_type": "code",
      "metadata": {
        "colab_type": "code",
        "id": "F4Uq1lLD3zAS",
        "colab": {}
      },
      "source": [
        "X_train = X_train.reshape(X_train.shape[0], img_rows, img_cols, 1)\n",
        "#X_test = X_test.reshape(X_test.shape[0], 1, img_rows, img_cols)"
      ],
      "execution_count": 0,
      "outputs": []
    },
    {
      "cell_type": "code",
      "metadata": {
        "colab_type": "code",
        "id": "Llmsfeos3wl8",
        "colab": {}
      },
      "source": [
        "X_test = X_test.reshape(X_test.shape[0], img_rows, img_cols, 1)"
      ],
      "execution_count": 0,
      "outputs": []
    },
    {
      "cell_type": "code",
      "metadata": {
        "colab_type": "code",
        "id": "q3Sd5A253vhy",
        "colab": {}
      },
      "source": [
        "model.compile(loss='categorical_crossentropy', optimizer='adam', metrics=[\"accuracy\"])"
      ],
      "execution_count": 0,
      "outputs": []
    },
    {
      "cell_type": "code",
      "metadata": {
        "id": "yIkRfUNV0wDl",
        "colab_type": "code",
        "outputId": "703dd29d-57d8-4e3d-b13f-c5916b064b57",
        "colab": {
          "base_uri": "https://localhost:8080/",
          "height": 933
        }
      },
      "source": [
        "hist = model.fit(X_train, y_train, batch_size=32, nb_epoch=num_epoch, verbose=1, validation_data=(X_test, y_test))"
      ],
      "execution_count": 98,
      "outputs": [
        {
          "output_type": "stream",
          "text": [
            "/usr/local/lib/python3.6/dist-packages/ipykernel_launcher.py:1: UserWarning: The `nb_epoch` argument in `fit` has been renamed `epochs`.\n",
            "  \"\"\"Entry point for launching an IPython kernel.\n"
          ],
          "name": "stderr"
        },
        {
          "output_type": "stream",
          "text": [
            "Train on 1608 samples, validate on 402 samples\n",
            "Epoch 1/25\n",
            "1608/1608 [==============================] - 91s 57ms/step - loss: 0.2637 - accuracy: 0.8930 - val_loss: 0.4280 - val_accuracy: 0.8532\n",
            "Epoch 2/25\n",
            "1608/1608 [==============================] - 91s 57ms/step - loss: 0.2684 - accuracy: 0.8812 - val_loss: 0.4169 - val_accuracy: 0.8483\n",
            "Epoch 3/25\n",
            "1608/1608 [==============================] - 96s 60ms/step - loss: 0.2514 - accuracy: 0.8924 - val_loss: 0.4155 - val_accuracy: 0.8557\n",
            "Epoch 4/25\n",
            "1608/1608 [==============================] - 92s 57ms/step - loss: 0.2254 - accuracy: 0.9011 - val_loss: 0.4522 - val_accuracy: 0.8557\n",
            "Epoch 5/25\n",
            "1608/1608 [==============================] - 92s 57ms/step - loss: 0.2024 - accuracy: 0.9160 - val_loss: 0.4850 - val_accuracy: 0.8682\n",
            "Epoch 6/25\n",
            "1608/1608 [==============================] - 92s 58ms/step - loss: 0.1976 - accuracy: 0.9167 - val_loss: 0.4858 - val_accuracy: 0.8582\n",
            "Epoch 7/25\n",
            "1608/1608 [==============================] - 92s 57ms/step - loss: 0.2172 - accuracy: 0.9049 - val_loss: 0.4848 - val_accuracy: 0.8532\n",
            "Epoch 8/25\n",
            "1608/1608 [==============================] - 92s 57ms/step - loss: 0.1741 - accuracy: 0.9335 - val_loss: 0.4857 - val_accuracy: 0.8582\n",
            "Epoch 9/25\n",
            "1608/1608 [==============================] - 92s 57ms/step - loss: 0.1803 - accuracy: 0.9279 - val_loss: 0.4708 - val_accuracy: 0.8657\n",
            "Epoch 10/25\n",
            "1608/1608 [==============================] - 96s 60ms/step - loss: 0.1970 - accuracy: 0.9185 - val_loss: 0.4906 - val_accuracy: 0.8706\n",
            "Epoch 11/25\n",
            "1608/1608 [==============================] - 92s 57ms/step - loss: 0.1863 - accuracy: 0.9229 - val_loss: 0.4865 - val_accuracy: 0.8582\n",
            "Epoch 12/25\n",
            "1608/1608 [==============================] - 92s 57ms/step - loss: 0.1559 - accuracy: 0.9384 - val_loss: 0.4819 - val_accuracy: 0.8731\n",
            "Epoch 13/25\n",
            "1608/1608 [==============================] - 93s 58ms/step - loss: 0.1704 - accuracy: 0.9297 - val_loss: 0.5034 - val_accuracy: 0.8607\n",
            "Epoch 14/25\n",
            "1608/1608 [==============================] - 93s 58ms/step - loss: 0.1738 - accuracy: 0.9241 - val_loss: 0.5516 - val_accuracy: 0.8632\n",
            "Epoch 15/25\n",
            "1608/1608 [==============================] - 92s 57ms/step - loss: 0.1654 - accuracy: 0.9328 - val_loss: 0.5144 - val_accuracy: 0.8483\n",
            "Epoch 16/25\n",
            "1608/1608 [==============================] - 97s 61ms/step - loss: 0.1678 - accuracy: 0.9341 - val_loss: 0.5003 - val_accuracy: 0.8657\n",
            "Epoch 17/25\n",
            "1608/1608 [==============================] - 92s 57ms/step - loss: 0.1509 - accuracy: 0.9347 - val_loss: 0.5546 - val_accuracy: 0.8806\n",
            "Epoch 18/25\n",
            "1608/1608 [==============================] - 92s 57ms/step - loss: 0.1141 - accuracy: 0.9565 - val_loss: 0.5709 - val_accuracy: 0.8856\n",
            "Epoch 19/25\n",
            "1608/1608 [==============================] - 91s 57ms/step - loss: 0.1334 - accuracy: 0.9447 - val_loss: 0.5288 - val_accuracy: 0.8831\n",
            "Epoch 20/25\n",
            "1608/1608 [==============================] - 92s 57ms/step - loss: 0.1483 - accuracy: 0.9335 - val_loss: 0.6417 - val_accuracy: 0.8433\n",
            "Epoch 21/25\n",
            "1608/1608 [==============================] - 92s 57ms/step - loss: 0.1320 - accuracy: 0.9403 - val_loss: 0.4864 - val_accuracy: 0.8831\n",
            "Epoch 22/25\n",
            "1608/1608 [==============================] - 93s 58ms/step - loss: 0.1164 - accuracy: 0.9465 - val_loss: 0.5653 - val_accuracy: 0.8507\n",
            "Epoch 23/25\n",
            "1608/1608 [==============================] - 96s 59ms/step - loss: 0.1338 - accuracy: 0.9478 - val_loss: 0.5940 - val_accuracy: 0.8657\n",
            "Epoch 24/25\n",
            "1608/1608 [==============================] - 92s 57ms/step - loss: 0.1241 - accuracy: 0.9465 - val_loss: 0.4906 - val_accuracy: 0.8731\n",
            "Epoch 25/25\n",
            "1608/1608 [==============================] - 92s 57ms/step - loss: 0.1328 - accuracy: 0.9397 - val_loss: 0.5895 - val_accuracy: 0.8682\n"
          ],
          "name": "stdout"
        }
      ]
    },
    {
      "cell_type": "markdown",
      "metadata": {
        "id": "JfYI2zGejfDR",
        "colab_type": "text"
      },
      "source": [
        "Accuracy and loss visualization"
      ]
    },
    {
      "cell_type": "code",
      "metadata": {
        "id": "qP3Q63jTJwLM",
        "colab_type": "code",
        "outputId": "af733125-619e-451d-9ec5-39f7486a3ba9",
        "colab": {
          "base_uri": "https://localhost:8080/",
          "height": 86
        }
      },
      "source": [
        "for key in hist.history.keys():\n",
        "    print(key)"
      ],
      "execution_count": 99,
      "outputs": [
        {
          "output_type": "stream",
          "text": [
            "val_loss\n",
            "val_accuracy\n",
            "loss\n",
            "accuracy\n"
          ],
          "name": "stdout"
        }
      ]
    },
    {
      "cell_type": "code",
      "metadata": {
        "id": "K3A18Wskh_oy",
        "colab_type": "code",
        "colab": {}
      },
      "source": [
        "train_loss=hist.history['loss']\n",
        "val_loss=hist.history['val_loss']\n",
        "train_acc=hist.history['accuracy']\n",
        "val_acc=hist.history['val_accuracy']\n",
        "xc=range(num_epoch)"
      ],
      "execution_count": 0,
      "outputs": []
    },
    {
      "cell_type": "code",
      "metadata": {
        "id": "I4hGTfPBkVCv",
        "colab_type": "code",
        "outputId": "36a1d906-18f9-4dbd-e207-d72f998416c4",
        "colab": {
          "base_uri": "https://localhost:8080/",
          "height": 350
        }
      },
      "source": [
        "plt.figure(1,figsize=(7,5))\n",
        "plt.plot(xc,train_loss)\n",
        "plt.plot(xc,val_loss)\n",
        "plt.xlabel('num of Epochs')\n",
        "plt.ylabel('loss')\n",
        "plt.title('train_loss vs val_loss')\n",
        "plt.grid(True)\n",
        "plt.legend(['train','val'])\n",
        "plt.style.use(['classic'])"
      ],
      "execution_count": 101,
      "outputs": [
        {
          "output_type": "display_data",
          "data": {
            "image/png": "[encoded data removed]",
            "text/plain": [
              "<Figure size 504x360 with 1 Axes>"
            ]
          },
          "metadata": {
            "tags": [],
            "needs_background": "light"
          }
        }
      ]
    },
    {
      "cell_type": "code",
      "metadata": {
        "id": "MyeanzCgn-7v",
        "colab_type": "code",
        "outputId": "e4284397-6254-4e1f-eb85-ccf0f09993c4",
        "colab": {
          "base_uri": "https://localhost:8080/",
          "height": 406
        }
      },
      "source": [
        "plt.figure(2,figsize=(7,5))\n",
        "plt.plot(xc,train_acc)\n",
        "plt.plot(xc,val_acc)\n",
        "plt.xlabel('num of Epochs')\n",
        "plt.ylabel('accuracy')\n",
        "plt.title('train_acc vs val_acc')\n",
        "plt.grid(True)\n",
        "plt.legend(['train','val'],loc=4)\n",
        "#print plt.style.available # use bmh, classic,ggplot for big pictures\n",
        "plt.style.use(['classic'])"
      ],
      "execution_count": 102,
      "outputs": [
        {
          "output_type": "display_data",
          "data": {
            "image/png": "[encoded data removed]",
            "text/plain": [
              "<Figure size 560x400 with 1 Axes>"
            ]
          },
          "metadata": {
            "tags": []
          }
        }
      ]
    },
    {
      "cell_type": "markdown",
      "metadata": {
        "id": "po-TICZlqnWQ",
        "colab_type": "text"
      },
      "source": [
        "Model Evaluation\n"
      ]
    },
    {
      "cell_type": "code",
      "metadata": {
        "id": "7k1SCdBuljtd",
        "colab_type": "code",
        "outputId": "5a4f4859-c2f7-4108-fbf4-6a6894cf66a9",
        "colab": {
          "base_uri": "https://localhost:8080/",
          "height": 52
        }
      },
      "source": [
        "score = model.evaluate(X_test, y_test, verbose=0)\n",
        "print('Test Loss:', score[0])\n",
        "print('Test accuracy:', score[1])"
      ],
      "execution_count": 104,
      "outputs": [
        {
          "output_type": "stream",
          "text": [
            "Test Loss: 0.5895045331461513\n",
            "Test accuracy: 0.8681591749191284\n"
          ],
          "name": "stdout"
        }
      ]
    },
    {
      "cell_type": "code",
      "metadata": {
        "id": "o2AsdwF3u0oe",
        "colab_type": "code",
        "outputId": "3775453a-af7f-462f-f99d-b1ba388a7ee2",
        "colab": {
          "base_uri": "https://localhost:8080/",
          "height": 34
        }
      },
      "source": [
        "print('Test loss:', score[0])"
      ],
      "execution_count": 105,
      "outputs": [
        {
          "output_type": "stream",
          "text": [
            "Test loss: 0.5895045331461513\n"
          ],
          "name": "stdout"
        }
      ]
    },
    {
      "cell_type": "code",
      "metadata": {
        "id": "Xra25Qtxu8J8",
        "colab_type": "code",
        "outputId": "f8b72bb3-db65-40f1-b436-1a4db23fa20f",
        "colab": {
          "base_uri": "https://localhost:8080/",
          "height": 34
        }
      },
      "source": [
        "print('Test accuracy:', score[1])"
      ],
      "execution_count": 106,
      "outputs": [
        {
          "output_type": "stream",
          "text": [
            "Test accuracy: 0.8681591749191284\n"
          ],
          "name": "stdout"
        }
      ]
    },
    {
      "cell_type": "code",
      "metadata": {
        "id": "2JL4hGGhvP3u",
        "colab_type": "code",
        "outputId": "bf2eeba1-0e03-40b0-a6b3-b948a4c1bb02",
        "colab": {
          "base_uri": "https://localhost:8080/",
          "height": 34
        }
      },
      "source": [
        "test_image = X_test[0:1]\n",
        "print (test_image.shape)"
      ],
      "execution_count": 107,
      "outputs": [
        {
          "output_type": "stream",
          "text": [
            "(1, 128, 128, 1)\n"
          ],
          "name": "stdout"
        }
      ]
    },
    {
      "cell_type": "code",
      "metadata": {
        "id": "Sp8Eyl_tNxB4",
        "colab_type": "code",
        "outputId": "b9b485d6-88ea-4571-f8e2-1464368d55ce",
        "colab": {
          "base_uri": "https://localhost:8080/",
          "height": 69
        }
      },
      "source": [
        "print(model.predict(test_image))\n",
        "print(model.predict_classes(test_image))\n",
        "print(y_test[0:1])"
      ],
      "execution_count": 108,
      "outputs": [
        {
          "output_type": "stream",
          "text": [
            "[[1.3632190e-15 2.5472622e-25 1.0000000e+00 5.5574380e-23]]\n",
            "[2]\n",
            "[[0. 0. 1. 0.]]\n"
          ],
          "name": "stdout"
        }
      ]
    },
    {
      "cell_type": "markdown",
      "metadata": {
        "id": "zvwFTfFuwSOM",
        "colab_type": "text"
      },
      "source": [
        "Testing a new image"
      ]
    },
    {
      "cell_type": "code",
      "metadata": {
        "id": "XCil23NkwRjW",
        "colab_type": "code",
        "outputId": "d68a29ee-56fc-4a29-9d94-474cd6a30f07",
        "colab": {
          "base_uri": "https://localhost:8080/",
          "height": 34
        }
      },
      "source": [
        "test_image = cv2.imread('ml-dataset/Test image/bisturi40.jpg')\n",
        "test_image=cv2.cvtColor(test_image, cv2.COLOR_BGR2GRAY)\n",
        "test_image=cv2.resize(test_image,(128,128))\n",
        "test_image = np.array(test_image)\n",
        "test_image = test_image.astype('float32')\n",
        "test_image /= 255\n",
        "#test_image = test_image.reshape((128, 128,1))\n",
        "print (test_image.shape)"
      ],
      "execution_count": 109,
      "outputs": [
        {
          "output_type": "stream",
          "text": [
            "(128, 128)\n"
          ],
          "name": "stdout"
        }
      ]
    },
    {
      "cell_type": "code",
      "metadata": {
        "id": "Wci1PuG8xqIO",
        "colab_type": "code",
        "outputId": "157e6964-bf1b-4d50-87f3-4166cb0aefea",
        "colab": {
          "base_uri": "https://localhost:8080/",
          "height": 34
        }
      },
      "source": [
        "if num_channel==1:\n",
        "\tif K.common.image_dim_ordering()=='th':\n",
        "\t\ttest_image= np.expand_dims(test_image, axis=0)\n",
        "\t\ttest_image= np.expand_dims(test_image, axis=0)\n",
        "\t\tprint (test_image.shape)\n",
        "\telse:\n",
        "\t\ttest_image= np.expand_dims(test_image, axis=2) \n",
        "\t\ttest_image= np.expand_dims(test_image, axis=0)\n",
        "\t\tprint (test_image.shape)\n",
        "\t\t\n",
        "else:\n",
        "\tif K.common.image_dim_ordering()=='th':\n",
        "\t\ttest_image=np.rollaxis(test_image,2,0)\n",
        "\t\ttest_image= np.expand_dims(test_image, axis=0)\n",
        "\t\tprint (test_image.shape)\n",
        "\telse:\n",
        "\t\ttest_image= np.expand_dims(test_image, axis=0)\n",
        "\t\tprint (test_image.shape)"
      ],
      "execution_count": 113,
      "outputs": [
        {
          "output_type": "stream",
          "text": [
            "(1, 128, 128, 1)\n"
          ],
          "name": "stdout"
        }
      ]
    },
    {
      "cell_type": "markdown",
      "metadata": {
        "id": "J7-P8k76yHmO",
        "colab_type": "text"
      },
      "source": [
        "Test image prediction"
      ]
    },
    {
      "cell_type": "code",
      "metadata": {
        "id": "mpzf8hCuyL0p",
        "colab_type": "code",
        "outputId": "e7756833-95e0-41f5-c2c4-6bddcab1f8f4",
        "colab": {
          "base_uri": "https://localhost:8080/",
          "height": 52
        }
      },
      "source": [
        "print((model.predict(test_image)))\n",
        "print(model.predict_classes(test_image))"
      ],
      "execution_count": 114,
      "outputs": [
        {
          "output_type": "stream",
          "text": [
            "[[2.8810869e-09 1.0000000e+00 1.1323306e-17 1.1242598e-18]]\n",
            "[1]\n"
          ],
          "name": "stdout"
        }
      ]
    },
    {
      "cell_type": "code",
      "metadata": {
        "id": "aFEkW7TtyPpu",
        "colab_type": "code",
        "outputId": "ad956363-29a3-4393-b547-c22fc5188854",
        "colab": {
          "base_uri": "https://localhost:8080/",
          "height": 34
        }
      },
      "source": [
        "print(model.predict_classes(test_image))"
      ],
      "execution_count": 115,
      "outputs": [
        {
          "output_type": "stream",
          "text": [
            "[1]\n"
          ],
          "name": "stdout"
        }
      ]
    },
    {
      "cell_type": "markdown",
      "metadata": {
        "id": "lwyfq07hyY3Q",
        "colab_type": "text"
      },
      "source": [
        "Saving and loading model and weights"
      ]
    },
    {
      "cell_type": "code",
      "metadata": {
        "id": "UkaSKV-nywRc",
        "colab_type": "code",
        "colab": {}
      },
      "source": [
        "from keras.models import model_from_json\n",
        "from keras.models import load_model"
      ],
      "execution_count": 0,
      "outputs": []
    },
    {
      "cell_type": "code",
      "metadata": {
        "id": "N9OjHoy-ybrk",
        "colab_type": "code",
        "colab": {}
      },
      "source": [
        "# serialize model to JSON\n",
        "model_json = model.to_json()\n",
        "with open(\"model.json\", \"w\") as json_file:\n",
        "    json_file.write(model_json)"
      ],
      "execution_count": 0,
      "outputs": []
    },
    {
      "cell_type": "code",
      "metadata": {
        "id": "f3gfaAeAyfPU",
        "colab_type": "code",
        "outputId": "e184310d-8b71-40a1-d293-73961e80f8af",
        "colab": {
          "base_uri": "https://localhost:8080/",
          "height": 34
        }
      },
      "source": [
        "# serialize weights to HDF5\n",
        "model.save_weights(\"model.h5\")\n",
        "print(\"Saved model to disk\")"
      ],
      "execution_count": 118,
      "outputs": [
        {
          "output_type": "stream",
          "text": [
            "Saved model to disk\n"
          ],
          "name": "stdout"
        }
      ]
    },
    {
      "cell_type": "code",
      "metadata": {
        "id": "wN7muiOhyiKO",
        "colab_type": "code",
        "colab": {}
      },
      "source": [
        "# load json and create model\n",
        "json_file = open('model.json', 'r')\n",
        "loaded_model_json = json_file.read()\n",
        "json_file.close()\n",
        "loaded_model = model_from_json(loaded_model_json)\n"
      ],
      "execution_count": 0,
      "outputs": []
    },
    {
      "cell_type": "code",
      "metadata": {
        "id": "xJEGHvGZyz8E",
        "colab_type": "code",
        "outputId": "31e1a13e-c649-4230-da0d-86ba6243650d",
        "colab": {
          "base_uri": "https://localhost:8080/",
          "height": 34
        }
      },
      "source": [
        "# load weights into new model\n",
        "loaded_model.load_weights(\"model.h5\")\n",
        "print(\"Loaded model from disk\")"
      ],
      "execution_count": 120,
      "outputs": [
        {
          "output_type": "stream",
          "text": [
            "Loaded model from disk\n"
          ],
          "name": "stdout"
        }
      ]
    },
    {
      "cell_type": "code",
      "metadata": {
        "id": "i0OqMBnby8af",
        "colab_type": "code",
        "colab": {}
      },
      "source": [
        "model.save('model.hdf5')\n",
        "loaded_model=load_model('model.hdf5')"
      ],
      "execution_count": 0,
      "outputs": []
    }
  ]
}